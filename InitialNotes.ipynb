{
 "cells": [
  {
   "attachments": {},
   "cell_type": "markdown",
   "metadata": {},
   "source": [
    "# <p style=\"color:#61DAFB\"> React</p>"
   ]
  },
  {
   "attachments": {},
   "cell_type": "markdown",
   "metadata": {},
   "source": [
    "[repo](https://gitlab.com/masajo/ob-react/-/commits/main/)"
   ]
  },
  {
   "attachments": {},
   "cell_type": "markdown",
   "metadata": {},
   "source": [
    "# <p style=\"color:#61DAFB\"> Set up react projects</p>"
   ]
  },
  {
   "cell_type": "markdown",
   "metadata": {},
   "source": [
    "## Installing react framework"
   ]
  },
  {
   "cell_type": "markdown",
   "metadata": {},
   "source": [
    "Locating react tools:\n",
    "\n",
    "<img src=\"resources/imgs/1_where_react.png\" alt=\"Drawing\"/>"
   ]
  },
  {
   "attachments": {},
   "cell_type": "markdown",
   "metadata": {},
   "source": [
    "## <p style=\"color:#61DAFB\"> Vite React templete</p>"
   ]
  },
  {
   "cell_type": "markdown",
   "metadata": {},
   "source": [
    "## Creating react app template"
   ]
  },
  {
   "cell_type": "markdown",
   "metadata": {},
   "source": [
    "Creating a web aplication based on react is just a simple\n",
    "node js project (directory as node module) with react dependencies and archytecture. Lets hands on by:\n",
    "\n",
    "```console\n",
    "> create-react-app <appName>\n",
    "\n",
    "npm WARN config global `--global`, `--local` are deprecated. Use `--location=global` instead.\n",
    "Installing packages. This might take a couple of minutes.\n",
    "Installing react, react-dom, and react-scripts with cra-template...\n",
    "```\n",
    "\n",
    "Build the base projects for development of \n",
    "react aplications.\n",
    "\n",
    "* react - main library\n",
    "* react-dom - DOM management tool\n",
    "* react-scripts - test, build and localhost"
   ]
  },
  {
   "cell_type": "markdown",
   "metadata": {},
   "source": [
    "### Project structure"
   ]
  },
  {
   "cell_type": "markdown",
   "metadata": {},
   "source": [
    "Root project directory looks like:\n",
    "<img src=\"resources/imgs/2_project_root.png\" alt=\"Drawing\" />\n",
    "\n",
    "**project/src**\n",
    "<img src=\"resources/imgs/3_src.png\" alt=\"Drawing\"/>"
   ]
  },
  {
   "cell_type": "markdown",
   "metadata": {},
   "source": [
    "Important files are:\n",
    "\n",
    "```App.js``` - Main component (app start function).\n",
    "\n",
    "```App.css App.test.js``` - Styles and tests for component.\n",
    "\n",
    "```index.js``` - Calls and render main component."
   ]
  },
  {
   "cell_type": "markdown",
   "metadata": {},
   "source": [
    "### Some scripts"
   ]
  },
  {
   "cell_type": "markdown",
   "metadata": {},
   "source": [
    "```console\n",
    "npm start\n",
    "    Starts the development server.\n",
    "\n",
    "npm run build\n",
    "    Bundles the app into static files for production.\n",
    "\n",
    "npm test\n",
    "    Starts the test runner.\n",
    "\n",
    "npm run eject\n",
    "    Removes this tool and copies build dependencies,\n",
    "    configuration files and scripts into the app directory. \n",
    "    If you do this, you can’t go back!\n",
    "```"
   ]
  },
  {
   "cell_type": "markdown",
   "metadata": {},
   "source": [
    "### Launch the development server (localhost)"
   ]
  },
  {
   "cell_type": "markdown",
   "metadata": {},
   "source": [
    "<img src=\"resources/imgs/4_npm_start.png\" alt=\"Drawing\"/>\n",
    "\n",
    "<img src=\"resources/imgs/5_compilled.png\" alt=\"Drawing\"/>\n",
    "\n",
    "<img src=\"resources/imgs/6_start.png\" style=\"width: 550px;\" alt=\"Drawing\"/>"
   ]
  },
  {
   "cell_type": "markdown",
   "metadata": {},
   "source": [
    "# React components\n",
    "<!-- <img src=\"resources/imgs/react_components_nature.png\" alt=\"Drawing\" style=\"width: 720px;\"/> -->"
   ]
  },
  {
   "cell_type": "markdown",
   "metadata": {},
   "source": [
    "## Class components"
   ]
  },
  {
   "cell_type": "markdown",
   "metadata": {},
   "source": [
    "Key concepts:\n",
    "\n",
    "* render() method\n",
    "* {props} object as constructor params\n",
    "* PropRypes - params spefication and validation\n",
    "* internal state\n",
    "* setState() method for re-rendering the document\n",
    "* link internal state changes to triggered events\n"
   ]
  },
  {
   "cell_type": "code",
   "execution_count": null,
   "metadata": {
    "vscode": {
     "languageId": "javascriptreact"
    }
   },
   "outputs": [],
   "source": [
    "/**\n",
    " * @author Alexis Tercero \n",
    " * @mail alxistercero55@gmail.com\n",
    " * @github alxistercero55\n",
    " * \n",
    " * Defining class component*/\n",
    "\n",
    "import React, { Component } from 'react';\n",
    "import PropTypes from 'prop-types';\n",
    "\n",
    "\n",
    "class Example1 extends Component \n",
    "{\n",
    "    /**\n",
    "     * @param {Object} props information for class instance\n",
    "     */\n",
    "    constructor(props)\n",
    "    {\n",
    "        super(props);\n",
    "        /**Internal and private state of the component */\n",
    "        this.state = {key : 25};\n",
    "    }\n",
    "\n",
    "    /**Change name field on the internal state \n",
    "     * and update the render\n",
    "     */\n",
    "    nextKey = () => \n",
    "    {\n",
    "        this.setState((prevState) => \n",
    "        (\n",
    "            {\n",
    "                key: prevState.key + 1\n",
    "            }\n",
    "        ));\n",
    "    }\n",
    "\n",
    "    /**\n",
    "     * Render method returns a custom html component\n",
    "     * @returns {HTMLElement} just one parent tag\n",
    "     */\n",
    "    render() \n",
    "    {\n",
    "        return (\n",
    "            <div>\n",
    "                <h1>Holis Betty {'<'}3 {this.props.name}</h1>\n",
    "                <p>Informacion del estado interno: {this.state.key}</p>\n",
    "                <button onClick={this.nextKey}>\n",
    "                    Next\n",
    "                </button>\n",
    "            </div>\n",
    "        );\n",
    "    }\n",
    "}\n",
    "\n",
    "/**\n",
    " * props specifications\n",
    " */\n",
    "Example1.propTypes = \n",
    "{\n",
    "    name: PropTypes.string\n",
    "};\n",
    "\n",
    "\n",
    "export default Example1;"
   ]
  },
  {
   "cell_type": "markdown",
   "metadata": {},
   "source": [
    "## Function components"
   ]
  },
  {
   "attachments": {},
   "cell_type": "markdown",
   "metadata": {},
   "source": [
    "Key concepts:\n",
    "\n",
    "* Return a single parent HTMLElement\n",
    "* useState to manage internal state and refresh rendering\n",
    "    * Array destructuring ``[<varState_i>,<setter_i>]``\n",
    "    * Call setter ```setter(foo(varState))```\n",
    "      by arrow function to use them when any event is triggered.\n",
    "    * Event functions (arrow functions calling any setter function).\n",
    "      * `const eventF = () => { setter(foo(varState)); } `\n",
    "    * Using the event function when any event is triggered on the browser.\n",
    "      * `<button onClick={eventF}>`"
   ]
  },
  {
   "cell_type": "code",
   "execution_count": null,
   "metadata": {
    "vscode": {
     "languageId": "javascriptreact"
    }
   },
   "outputs": [],
   "source": [
    "/**\n",
    " * @author Alexis Tercero \n",
    " * @mail alxistercero55@gmail.com\n",
    " * @github alxistercero55\n",
    " * \n",
    " * Defining function component*/\n",
    "import React, { useState } from 'react';\n",
    "import PropTypes from 'prop-types';\n",
    "\n",
    "/**Defining function component: HTMLElement*/\n",
    "const FCTag = (props) => \n",
    "{\n",
    "    /**Setting initial value and \n",
    "     * useState setter for a varState */\n",
    "    const [key, setkey] = useState(1);\n",
    "    const nextKey = () =>\n",
    "    {\n",
    "        setkey(key + 1);\n",
    "    }\n",
    "\n",
    "    return (\n",
    "        <div>\n",
    "            <h1> {'<'}3 {props.name}</h1>\n",
    "            <p>Internal state: {key}</p>\n",
    "            <button onClick={nextKey}>\n",
    "                Next\n",
    "            </button>\n",
    "        </div>\n",
    "    );\n",
    "};\n",
    "\n",
    "\n",
    "FCTag.propTypes = \n",
    "{\n",
    "    name: PropTypes.string,\n",
    "};\n",
    "\n",
    "\n",
    "export default FCTag;"
   ]
  },
  {
   "attachments": {},
   "cell_type": "markdown",
   "metadata": {},
   "source": [
    "## <p style=\"color:#61DAFB\"> props.children</p>"
   ]
  },
  {
   "cell_type": "markdown",
   "metadata": {},
   "source": [
    "## Container component"
   ]
  },
  {
   "attachments": {},
   "cell_type": "markdown",
   "metadata": {},
   "source": [
    "High order components that render low level components, it contains data and logic (functions calls).\n",
    "\n",
    "<!-- <img src=\"./resources/imgs/7_containersComponents.png\"> -->\n",
    "\n",
    "<p style=\"color:red\"> TODO: Asi con todos los componentes de la lista final >.< </p>"
   ]
  },
  {
   "cell_type": "markdown",
   "metadata": {},
   "source": []
  },
  {
   "cell_type": "markdown",
   "metadata": {},
   "source": []
  },
  {
   "attachments": {},
   "cell_type": "markdown",
   "metadata": {},
   "source": [
    "# <p style=\"color:#61DAFB\"> State and Lifecycle</p>"
   ]
  },
  {
   "attachments": {},
   "cell_type": "markdown",
   "metadata": {},
   "source": [
    "* [React-article](https://reactjs.org/docs/state-and-lifecycle.html)"
   ]
  },
  {
   "attachments": {},
   "cell_type": "markdown",
   "metadata": {},
   "source": [
    "State is similar to props, but it is private and fully controlled by the component."
   ]
  },
  {
   "attachments": {},
   "cell_type": "markdown",
   "metadata": {},
   "source": [
    "## <p style=\"color:#61DAFB\"> Render phase</p>"
   ]
  },
  {
   "attachments": {},
   "cell_type": "markdown",
   "metadata": {},
   "source": [
    "Pure and has no side effects. May be paused, aborted or restarted by React.\n",
    "\n",
    "### <p style=\"color:#61DAFB\">Mounting </p>\n",
    "Mounting starts with `constructor` or `render` method call.\n",
    "\n",
    "### <p style=\"color:#61DAFB\">Updating </p>\n",
    "* `new props`\n",
    "* `setState()`\n",
    "* `forceUpdate()`\n",
    "\n",
    "Afeter some change, component  will be rendered again with a new state.\n",
    "\n",
    "### <p style=\"color:#61DAFB\">Unmounting </p>\n",
    "No actions here yet."
   ]
  },
  {
   "cell_type": "code",
   "execution_count": null,
   "metadata": {
    "vscode": {
     "languageId": "javascriptreact"
    }
   },
   "outputs": [],
   "source": [
    "// DidMount component (functional approach)\n",
    "import { useEffect } from \"react\"\n",
    "import React from 'react'\n",
    "\n",
    "const _DidMount_ = () => {\n",
    "    useEffect(() => {\n",
    "        console.log('Component mount done. uwu');\n",
    "        return () => {\n",
    "            console.log('Component unmount done.');\n",
    "        };\n",
    "    }, []);// [] : means side effects on each component state change.\n",
    "  return (\n",
    "    <div>_DidMount_</div>\n",
    "  )\n",
    "}\n",
    "\n",
    "export default _DidMount_"
   ]
  },
  {
   "attachments": {},
   "cell_type": "markdown",
   "metadata": {},
   "source": [
    "## <p style=\"color:#61DAFB\"> Commit phase</p>"
   ]
  },
  {
   "attachments": {},
   "cell_type": "markdown",
   "metadata": {},
   "source": [
    "Can work with DOM, run side effects, schedule updates.\n",
    "\n",
    "### <p style=\"color:#61DAFB\">Mounting </p>\n",
    "\n",
    "* Make updates on DOM and refs\n",
    "* React perfoms `componentDidMount()` methods.\n",
    "* Performance of side effects.\n",
    "\n",
    "### <p style=\"color:#61DAFB\">Updating </p>\n",
    "* Make updates on DOM and refs\n",
    "* `componentDidUpdate`\n",
    "\n",
    "### <p style=\"color:#61DAFB\">Unmounting </p>\n",
    "\n",
    "* Clear components.\n",
    "* `ComponentWillUnmount()`"
   ]
  },
  {
   "attachments": {},
   "cell_type": "markdown",
   "metadata": {},
   "source": [
    "# <p style=\"color:#61DAFB\"> Hooks and internal state </p>\n"
   ]
  },
  {
   "attachments": {},
   "cell_type": "markdown",
   "metadata": {},
   "source": [
    "* <p style=\"color:#61DAFB\"> useEffect</p>\n",
    "* <p style=\"color:#61DAFB\"> useState</p>\n",
    "* <p style=\"color:#61DAFB\"> useRef</p>\n",
    "* <p style=\"color:#61DAFB\"> useContext</p>"
   ]
  },
  {
   "attachments": {},
   "cell_type": "markdown",
   "metadata": {},
   "source": [
    "## <p style=\"color:#61DAFB\"> useEffect </p>"
   ]
  },
  {
   "attachments": {},
   "cell_type": "markdown",
   "metadata": {},
   "source": [
    "[Using the Effect Hook](https://reactjs.org/docs/hooks-effect.html)\n",
    "\n",
    "*Hooks are a new addition in React 16.8. They let you use state and other React features without writing a class.*"
   ]
  },
  {
   "attachments": {},
   "cell_type": "markdown",
   "metadata": {},
   "source": [
    "Using the Effect Hook to perform side effects."
   ]
  },
  {
   "cell_type": "code",
   "execution_count": null,
   "metadata": {
    "vscode": {
     "languageId": "javascriptreact"
    }
   },
   "outputs": [],
   "source": [
    "import React, { useState, useEffect } from 'react';\n",
    "\n",
    "export const component = () => {\n",
    "\n",
    "  const _INITIAL_STATE_ = {value:null};\n",
    "  const [_STATE_, _STATE_SETTER] = useState(_INITIAL_STATE_);\n",
    "  return (\n",
    "    <div>notes</div>\n",
    "  )\n",
    "}\n"
   ]
  },
  {
   "attachments": {},
   "cell_type": "markdown",
   "metadata": {},
   "source": [
    "## <p style=\"color:#61DAFB\"> useContext </p>"
   ]
  },
  {
   "attachments": {},
   "cell_type": "markdown",
   "metadata": {},
   "source": [
    "### <p style=\"color:#61DAFB\"> Context </p>"
   ]
  },
  {
   "attachments": {},
   "cell_type": "markdown",
   "metadata": {},
   "source": [
    "[Passing Data Deeply with Context](https://beta.reactjs.org/learn/passing-data-deeply-with-context)\n",
    "\n",
    "Usually, you will **pass information from a parent component to a child component via props**. But passing props can become verbose and inconvenient **if you have to pass them through many components in the middle, or if many components in your app need the same information**. <span style=\"color:#61DAFB\">Context </span> lets the parent component make some information available to any component in the tree below it—no matter how deep—without passing it explicitly through props."
   ]
  },
  {
   "attachments": {},
   "cell_type": "markdown",
   "metadata": {},
   "source": [
    "#### <p style=\"color:#61DAFB\"> Context: an alternative to passing props  </p>"
   ]
  },
  {
   "attachments": {},
   "cell_type": "markdown",
   "metadata": {},
   "source": [
    "Context lets a parent component provide data to the entire tree below it.\n",
    "\n",
    "Consider the next structure:"
   ]
  },
  {
   "cell_type": "code",
   "execution_count": null,
   "metadata": {
    "vscode": {
     "languageId": "javascriptreact"
    }
   },
   "outputs": [],
   "source": [
    "//App.jsx\n",
    "import Heading from './Heading.js';\n",
    "import Section from './Section.js';\n",
    "\n",
    "export default function Page() {\n",
    "  return (\n",
    "    <Section>\n",
    "      <Heading level={1}>Title</Heading>\n",
    "      <Heading level={2}>Heading</Heading>\n",
    "      <Heading level={3}>Sub-heading</Heading>\n",
    "      <Heading level={4}>Sub-sub-heading</Heading>\n",
    "      <Heading level={5}>Sub-sub-sub-heading</Heading>\n",
    "      <Heading level={6}>Sub-sub-sub-sub-heading</Heading>\n",
    "    </Section>\n",
    "  );\n",
    "}"
   ]
  },
  {
   "cell_type": "code",
   "execution_count": null,
   "metadata": {
    "vscode": {
     "languageId": "javascriptreact"
    }
   },
   "outputs": [],
   "source": [
    "//section.jsx\n",
    "export default function Section({ children }) {\n",
    "    return (\n",
    "        <section className=\"section\">\n",
    "        {children}\n",
    "        </section>\n",
    "    );\n",
    "}"
   ]
  },
  {
   "cell_type": "code",
   "execution_count": null,
   "metadata": {
    "vscode": {
     "languageId": "javascriptreact"
    }
   },
   "outputs": [],
   "source": [
    "//Heading.jsx\n",
    "export default function Heading({ level, children }) {\n",
    "    switch (level) {\n",
    "      case 1:\n",
    "        return <h1>{children}</h1>;\n",
    "      case 2:\n",
    "        return <h2>{children}</h2>;\n",
    "      case 3:\n",
    "        return <h3>{children}</h3>;\n",
    "      case 4:\n",
    "        return <h4>{children}</h4>;\n",
    "      case 5:\n",
    "        return <h5>{children}</h5>;\n",
    "      case 6:\n",
    "        return <h6>{children}</h6>;\n",
    "      default:\n",
    "        throw Error('Unknown level: ' + level);\n",
    "    }\n",
    "}  "
   ]
  },
  {
   "attachments": {},
   "cell_type": "markdown",
   "metadata": {},
   "source": [
    "Let’s say you want multiple headings within the same ``Section`` to always have the same size:"
   ]
  },
  {
   "cell_type": "code",
   "execution_count": null,
   "metadata": {
    "vscode": {
     "languageId": "javascriptreact"
    }
   },
   "outputs": [],
   "source": [
    "//App.jsx\n",
    "import Heading from './Heading.js';\n",
    "import Section from './Section.js';\n",
    "\n",
    "export default function Page() {\n",
    "  return (\n",
    "    <Section>\n",
    "      <Heading level={1}>Title</Heading>\n",
    "      <Section>\n",
    "        <Heading level={2}>Heading</Heading>\n",
    "        <Heading level={2}>Heading</Heading>\n",
    "        <Heading level={2}>Heading</Heading>\n",
    "        <Section>\n",
    "          <Heading level={3}>Sub-heading</Heading>\n",
    "          <Heading level={3}>Sub-heading</Heading>\n",
    "          <Heading level={3}>Sub-heading</Heading>\n",
    "          <Section>\n",
    "            <Heading level={4}>Sub-sub-heading</Heading>\n",
    "            <Heading level={4}>Sub-sub-heading</Heading>\n",
    "            <Heading level={4}>Sub-sub-heading</Heading>\n",
    "          </Section>\n",
    "        </Section>\n",
    "      </Section>\n",
    "    </Section>\n",
    "  );\n",
    "}"
   ]
  },
  {
   "cell_type": "code",
   "execution_count": null,
   "metadata": {
    "vscode": {
     "languageId": "javascriptreact"
    }
   },
   "outputs": [],
   "source": [
    "//Section.jsx\n",
    "export default function Section({ children }) {\n",
    "    return (\n",
    "      <section className=\"section\">\n",
    "        {children}\n",
    "      </section>\n",
    "    );\n",
    "  }\n",
    "  "
   ]
  },
  {
   "cell_type": "code",
   "execution_count": null,
   "metadata": {
    "vscode": {
     "languageId": "javascriptreact"
    }
   },
   "outputs": [],
   "source": [
    "//Heading.jsx\n",
    "export default function Heading({ level, children }) {\n",
    "    switch (level) {\n",
    "      case 1:\n",
    "        return <h1>{children}</h1>;\n",
    "      case 2:\n",
    "        return <h2>{children}</h2>;\n",
    "      case 3:\n",
    "        return <h3>{children}</h3>;\n",
    "      case 4:\n",
    "        return <h4>{children}</h4>;\n",
    "      case 5:\n",
    "        return <h5>{children}</h5>;\n",
    "      case 6:\n",
    "        return <h6>{children}</h6>;\n",
    "      default:\n",
    "        throw Error('Unknown level: ' + level);\n",
    "    }\n",
    "  }\n",
    "  "
   ]
  },
  {
   "attachments": {},
   "cell_type": "markdown",
   "metadata": {},
   "source": [
    "Currently, you pass the level prop to each ```<Heading>``` separately:"
   ]
  },
  {
   "cell_type": "code",
   "execution_count": null,
   "metadata": {
    "vscode": {
     "languageId": "javascriptreact"
    }
   },
   "outputs": [],
   "source": [
    "<Section>\n",
    "  <Heading level={3}>About</Heading>\n",
    "  <Heading level={3}>Photos</Heading>\n",
    "  <Heading level={3}>Videos</Heading>\n",
    "</Section>"
   ]
  },
  {
   "attachments": {},
   "cell_type": "markdown",
   "metadata": {},
   "source": [
    "If you could pass the level prop to the ``<Section>`` component instead and remove it from the ``<Heading>``. This way you could enforce that all headings in the same section have the same size:"
   ]
  },
  {
   "cell_type": "code",
   "execution_count": null,
   "metadata": {
    "vscode": {
     "languageId": "javascriptreact"
    }
   },
   "outputs": [],
   "source": [
    "<Section level={3}>\n",
    "  <Heading>About</Heading>\n",
    "  <Heading>Photos</Heading>\n",
    "  <Heading>Videos</Heading>\n",
    "</Section>"
   ]
  },
  {
   "attachments": {},
   "cell_type": "markdown",
   "metadata": {},
   "source": [
    "But how can the ``<Heading>`` component know the level of its closest ``<Section>``? That would require some way for a child to “ask” for data from somewhere above in the tree.\n",
    "\n",
    "This is where ``context`` comes into play. You will do it in three steps:\n",
    "\n",
    "1. Create a ``context``. (You can call it ``LevelContext``, since it’s for the heading level.)\n",
    "2. Use that context from the component that needs the data. (``Heading`` will use ``LevelContext``.)\n",
    "3. Provide that ``context`` from the component that specifies the data. (``Section`` will provide ``LevelContext``.)\n",
    "\n",
    "Context lets a parent—even a distant one!—provide some data to the entire tree inside of it."
   ]
  },
  {
   "attachments": {},
   "cell_type": "markdown",
   "metadata": {},
   "source": [
    "![Alt text](assets/imgs/context.png)"
   ]
  },
  {
   "attachments": {},
   "cell_type": "markdown",
   "metadata": {
    "vscode": {
     "languageId": "javascriptreact"
    }
   },
   "source": [
    "### <p style=\"color:#61DAFB\"> Passing Data Deeply with Context</p>"
   ]
  },
  {
   "attachments": {},
   "cell_type": "markdown",
   "metadata": {},
   "source": [
    "[artcle](https://react.dev/learn/passing-data-deeply-with-context)"
   ]
  },
  {
   "attachments": {},
   "cell_type": "markdown",
   "metadata": {
    "vscode": {
     "languageId": "javascriptreact"
    }
   },
   "source": [
    "#### <p style=\"color:#61DAFB\"> Step 1: Create the context</p>"
   ]
  },
  {
   "cell_type": "code",
   "execution_count": null,
   "metadata": {
    "vscode": {
     "languageId": "javascriptreact"
    }
   },
   "outputs": [],
   "source": [
    "import { createContext } from 'react';\n",
    "\n",
    "export const LevelContext = createContext(1);\n",
    "/**\n",
    " * The only argument to createContext is the default value. \n",
    " * Here, 1 refers to the biggest heading level, but you\n",
    " * could pass any kind of value (even an object). \n",
    " * You will see the significance of the default value in \n",
    " * the next step.\n",
    " */\n"
   ]
  },
  {
   "attachments": {},
   "cell_type": "markdown",
   "metadata": {},
   "source": [
    "#### <p style=\"color:#61DAFB\"> Step 2: Use the context</p>"
   ]
  },
  {
   "attachments": {},
   "cell_type": "markdown",
   "metadata": {},
   "source": [
    "Import the ``useContext`` Hook from React and your context:"
   ]
  },
  {
   "cell_type": "code",
   "execution_count": null,
   "metadata": {
    "vscode": {
     "languageId": "javascriptreact"
    }
   },
   "outputs": [],
   "source": [
    "import { useContext } from 'react';\n",
    "import { LevelContext } from './LevelContext.js';"
   ]
  },
  {
   "attachments": {},
   "cell_type": "markdown",
   "metadata": {},
   "source": [
    "Currently, the Heading component reads level from props:"
   ]
  },
  {
   "cell_type": "code",
   "execution_count": null,
   "metadata": {
    "vscode": {
     "languageId": "javascriptreact"
    }
   },
   "outputs": [],
   "source": [
    "export default function Heading({ level, children }) {\n",
    "    // ...\n",
    "  }"
   ]
  },
  {
   "attachments": {},
   "cell_type": "markdown",
   "metadata": {},
   "source": [
    "Instead, remove the level prop and read the value from the context you just imported, ``LevelContext``:"
   ]
  },
  {
   "cell_type": "code",
   "execution_count": null,
   "metadata": {
    "vscode": {
     "languageId": "javascriptreact"
    }
   },
   "outputs": [],
   "source": [
    "export default function Heading({ children }) {\n",
    "    const level = useContext(LevelContext);\n",
    "    // ...\n",
    "  }"
   ]
  },
  {
   "attachments": {},
   "cell_type": "markdown",
   "metadata": {},
   "source": [
    "#### <p style=\"color:#61DAFB\"> Step 3: Provide the context</p>"
   ]
  },
  {
   "cell_type": "code",
   "execution_count": null,
   "metadata": {
    "vscode": {
     "languageId": "javascriptreact"
    }
   },
   "outputs": [],
   "source": [
    "import { LevelContext } from './LevelContext.js';\n",
    "\n",
    "export default function Section({ level, children }) {\n",
    "  return (\n",
    "    <section className=\"section\">\n",
    "      <LevelContext.Provider value={level}>\n",
    "        {children}\n",
    "      </LevelContext.Provider>\n",
    "    </section>\n",
    "  );\n",
    "}"
   ]
  },
  {
   "attachments": {},
   "cell_type": "markdown",
   "metadata": {},
   "source": [
    "-------\n",
    "# <p style=\"color:#61DAFB\"> Context</p>"
   ]
  },
  {
   "attachments": {},
   "cell_type": "markdown",
   "metadata": {},
   "source": [
    "# <p style=\"color:#61DAFB\"> title</p>"
   ]
  },
  {
   "attachments": {},
   "cell_type": "markdown",
   "metadata": {},
   "source": [
    "# <p style=\"color:#61DAFB\"> Color palette</p>\n",
    "\n",
    "* <p style=\"color:#61DAFB\"> basic tittle</p>"
   ]
  },
  {
   "cell_type": "markdown",
   "metadata": {},
   "source": []
  }
 ],
 "metadata": {
  "language_info": {
   "name": "python"
  },
  "orig_nbformat": 4
 },
 "nbformat": 4,
 "nbformat_minor": 2
}
