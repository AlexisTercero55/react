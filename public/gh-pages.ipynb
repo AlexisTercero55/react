{
 "cells": [
  {
   "attachments": {},
   "cell_type": "markdown",
   "metadata": {},
   "source": [
    "# Publish a react app as static website on gh-pages"
   ]
  },
  {
   "attachments": {},
   "cell_type": "markdown",
   "metadata": {},
   "source": [
    "* Add homepage to package.json file\n",
    "\n",
    "    `\"homepage\": \"https://alexistercero55.github.io/ejercicio123/\"`\n",
    "* Install gh-pages package \n",
    "\n",
    "    `npm install gh-pages --save-dev`\n",
    "* Set up scripts\n",
    "    \t\n",
    "        \"predeploy\" : \"npm run build\",\n",
    "    \n",
    "        \"deploy\" : \"gh-pages -d build\"\n",
    "        "
   ]
  },
  {
   "attachments": {},
   "cell_type": "markdown",
   "metadata": {},
   "source": [
    "## Issue: importing images"
   ]
  },
  {
   "attachments": {},
   "cell_type": "markdown",
   "metadata": {},
   "source": [
    "See: [Adding Assets Outside of the Module System](https://create-react-app.dev/docs/using-the-public-folder/#adding-assets-outside-of-the-module-system)\n",
    "\n",
    "* Save your assets inside public folder.\n",
    "* Import your assets from the public folder.\n",
    "* Use an environment variable called `PUBLIC_URL` to get your assets from public folder by:\n",
    "    \n",
    "    ``${process.env.PUBLIC_URL}/assets/img/img.png``\n"
   ]
  },
  {
   "attachments": {},
   "cell_type": "markdown",
   "metadata": {},
   "source": [
    "### Some important notes about PUBLIC_URL"
   ]
  },
  {
   "attachments": {},
   "cell_type": "markdown",
   "metadata": {},
   "source": [
    "**Only files inside the public folder** will be accessible by %PUBLIC_URL% prefix. If you need to use a file from src or node_modules, you’ll have to copy it there **to explicitly specify your intention to make this file a part of the build**.\n",
    "\n",
    "When you run npm run build, Create React App will substitute %PUBLIC_URL% with a correct absolute path so your project works even if you use client-side routing or host it at a non-root URL."
   ]
  },
  {
   "attachments": {},
   "cell_type": "markdown",
   "metadata": {},
   "source": [
    "## About `process.env.PUBLIC_URL` in Node.js"
   ]
  },
  {
   "attachments": {},
   "cell_type": "markdown",
   "metadata": {},
   "source": [
    "``process.env.PUBLIC_URL`` is a global variable in JavaScript that refers to the base path of the current application. It is often used in JavaScript applications built with frameworks such as React or Next.js to specify the base URL of the app.\n",
    "\n",
    "For example, if your app is hosted at ``https://example.com/my-app``, the value of `process.env.PUBLIC_URL` would be ``/my-app``. You can use this variable to construct absolute URLs for assets within your app, such as images or stylesheets.\n",
    "\n",
    "For example, you might use it like this:"
   ]
  },
  {
   "cell_type": "code",
   "execution_count": null,
   "metadata": {
    "vscode": {
     "languageId": "javascript"
    }
   },
   "outputs": [],
   "source": [
    "const logoUrl = `${process.env.PUBLIC_URL}/images/logo.png`;"
   ]
  },
  {
   "attachments": {},
   "cell_type": "markdown",
   "metadata": {},
   "source": [
    "This would construct the URL ``https://example.com/my-app/images/logo.png``, assuming that your app is hosted at ``https://example.com/my-app``.\n",
    "\n",
    "It is worth noting that the value of ``process.env.PUBLIC_URL`` is set at build time and is not expected to change at runtime."
   ]
  },
  {
   "attachments": {},
   "cell_type": "markdown",
   "metadata": {},
   "source": [
    "### About ``process.env`` and build process"
   ]
  },
  {
   "attachments": {},
   "cell_type": "markdown",
   "metadata": {},
   "source": [
    "Reference: [Node.js - process.env](https://nodejs.org/docs/latest/api/process.html#processenv)\n",
    "\n",
    "The process.env property returns an object containing the user environment.\n",
    "\n",
    "The ``PUBLIC_URL`` property is typically added to the ``process.env`` object at build time, rather than at runtime. This means that it is set by the build system or tool that is used to create the JavaScript bundle for your application.\n",
    "\n",
    "For example, in a React app created with create-react-app, the ``PUBLIC_URL`` variable is set by the build script when you run ``npm run build`` or ``yarn build``. The value of the ``PUBLIC_URL`` variable is specified in the ``homepage`` field of the ``package.json`` file.\n",
    "\n",
    "If you are using a different build system or framework, the process for setting the value of ``PUBLIC_URL`` may be different. You will need to refer to the documentation for your specific build system or framework to learn more about how to set this variable."
   ]
  }
 ],
 "metadata": {
  "language_info": {
   "name": "python"
  },
  "orig_nbformat": 4
 },
 "nbformat": 4,
 "nbformat_minor": 2
}
