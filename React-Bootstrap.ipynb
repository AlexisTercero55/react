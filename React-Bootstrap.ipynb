{
 "cells": [
  {
   "attachments": {},
   "cell_type": "markdown",
   "metadata": {},
   "source": [
    "# <p style=\"color:#61DAFB\"> React-Bootstrap</p>"
   ]
  },
  {
   "attachments": {},
   "cell_type": "markdown",
   "metadata": {},
   "source": [
    "## <p style=\"color:#61DAFB\"> Grid system</p>"
   ]
  },
  {
   "attachments": {},
   "cell_type": "markdown",
   "metadata": {},
   "source": [
    "[**Grid system**](https://react-bootstrap.github.io/layout/grid/)\n",
    "\n",
    "> Bootstrap’s grid system uses a series of **containers**, **rows**, and **columns** to layout and align content. It’s built with flexbox and is fully responsive."
   ]
  },
  {
   "attachments": {},
   "cell_type": "markdown",
   "metadata": {},
   "source": [
    "### <p style=\"color:#61DAFB\"> Container</p>"
   ]
  },
  {
   "attachments": {},
   "cell_type": "markdown",
   "metadata": {},
   "source": [
    "> Containers provide a means to center and horizontally pad your site’s contents. Use ``Container`` for a responsive pixel width.\n",
    "\n",
    "> You can use ``<Container fluid />`` for width: 100% across all viewport and device sizes."
   ]
  },
  {
   "cell_type": "code",
   "execution_count": null,
   "metadata": {
    "vscode": {
     "languageId": "javascript"
    }
   },
   "outputs": [],
   "source": [
    "import Container from 'react-bootstrap/Container';\n",
    "import Row from 'react-bootstrap/Row';\n",
    "import Col from 'react-bootstrap/Col';\n",
    "\n",
    "function ContainerFluidExample() {\n",
    "  return (\n",
    "    <Container fluid>\n",
    "      <Row>\n",
    "        <Col>1 of 1</Col>\n",
    "      </Row>\n",
    "    </Container>\n",
    "  );\n",
    "}\n",
    "\n",
    "export default ContainerFluidExample;"
   ]
  },
  {
   "attachments": {},
   "cell_type": "markdown",
   "metadata": {},
   "source": [
    "## <p style=\"color:#61DAFB\"> Cards </p>"
   ]
  },
  {
   "attachments": {},
   "cell_type": "markdown",
   "metadata": {},
   "source": [
    "[**Cards**](https://react-bootstrap.github.io/components/cards/)\n",
    "\n",
    "> Bootstrap’s cards provide a flexible and extensible content container with multiple variants and options."
   ]
  },
  {
   "cell_type": "code",
   "execution_count": null,
   "metadata": {
    "vscode": {
     "languageId": "javascript"
    }
   },
   "outputs": [],
   "source": [
    "import Button from 'react-bootstrap/Button';\n",
    "import Card from 'react-bootstrap/Card';\n",
    "\n",
    "function BasicExample() {\n",
    "  return (\n",
    "    <Card style={{ width: '18rem' }}>\n",
    "      <Card.Img variant=\"top\" src=\"holder.js/100px180\" />\n",
    "      <Card.Body>\n",
    "        <Card.Title>Card Title</Card.Title>\n",
    "        <Card.Text>\n",
    "          Some quick example text to build on the card title and make up the\n",
    "          bulk of the card's content.\n",
    "        </Card.Text>\n",
    "        <Button variant=\"primary\">Go somewhere</Button>\n",
    "      </Card.Body>\n",
    "    </Card>\n",
    "  );\n",
    "}\n",
    "\n",
    "export default BasicExample;"
   ]
  },
  {
   "cell_type": "markdown",
   "metadata": {},
   "source": []
  }
 ],
 "metadata": {
  "language_info": {
   "name": "python"
  },
  "orig_nbformat": 4
 },
 "nbformat": 4,
 "nbformat_minor": 2
}
